{
 "cells": [
  {
   "cell_type": "markdown",
   "id": "1f857811-9fc1-4617-ac8f-60e4f1379d30",
   "metadata": {
    "execution": {
     "iopub.execute_input": "2024-05-21T08:11:32.371000Z",
     "iopub.status.busy": "2024-05-21T08:11:32.370688Z",
     "iopub.status.idle": "2024-05-21T08:11:32.526148Z",
     "shell.execute_reply": "2024-05-21T08:11:32.525627Z",
     "shell.execute_reply.started": "2024-05-21T08:11:32.370980Z"
    },
    "tags": []
   },
   "source": [
    "# python注释"
   ]
  },
  {
   "cell_type": "markdown",
   "id": "4b9d9bd9-c525-418a-b2a4-3912f9836053",
   "metadata": {
    "tags": []
   },
   "source": [
    "### 入门"
   ]
  },
  {
   "cell_type": "code",
   "execution_count": null,
   "id": "dd4a663c-e8dc-4976-8732-c7a94accc091",
   "metadata": {},
   "outputs": [],
   "source": [
    "# 单行注释\n",
    "\n",
    "'''\n",
    "多行注释1\n",
    "'''\n",
    "\n",
    "\"\"\"\n",
    "多行注释2\n",
    "\"\"\"\n"
   ]
  }
 ],
 "metadata": {
  "kernelspec": {
   "display_name": "Python 3 (ipykernel)",
   "language": "python",
   "name": "python3"
  },
  "language_info": {
   "codemirror_mode": {
    "name": "ipython",
    "version": 3
   },
   "file_extension": ".py",
   "mimetype": "text/x-python",
   "name": "python",
   "nbconvert_exporter": "python",
   "pygments_lexer": "ipython3",
   "version": "3.10.13"
  }
 },
 "nbformat": 4,
 "nbformat_minor": 5
}
