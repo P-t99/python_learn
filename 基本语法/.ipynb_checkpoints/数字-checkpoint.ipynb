{
 "cells": [
  {
   "cell_type": "markdown",
   "id": "7eef40dd-bcf3-4722-80be-cb56fc98d914",
   "metadata": {},
   "source": [
    "# py数字\n"
   ]
  },
  {
   "cell_type": "markdown",
   "id": "9d7cdc50-95e6-4688-955b-cbba3695a5b1",
   "metadata": {
    "toc-hr-collapsed": true
   },
   "source": [
    "### 入门"
   ]
  },
  {
   "cell_type": "code",
   "execution_count": 20,
   "id": "2d3ee4b8-0009-4162-9d4b-80a8b1bca113",
   "metadata": {
    "ExecutionIndicator": {
     "show": true
    },
    "collapsed": true,
    "execution": {
     "iopub.execute_input": "2024-05-21T08:39:37.966012Z",
     "iopub.status.busy": "2024-05-21T08:39:37.965714Z",
     "iopub.status.idle": "2024-05-21T08:39:37.968837Z",
     "shell.execute_reply": "2024-05-21T08:39:37.968442Z",
     "shell.execute_reply.started": "2024-05-21T08:39:37.965994Z"
    },
    "jupyter": {
     "outputs_hidden": true
    },
    "tags": []
   },
   "outputs": [
    {
     "name": "stdout",
     "output_type": "stream",
     "text": [
      "6\n",
      "5.21\n"
     ]
    }
   ],
   "source": [
    "# 整型\n",
    "a = 6\n",
    "print(a)\n",
    "\n",
    "# 浮点数\n",
    "b = 5.21\n",
    "print(b)"
   ]
  },
  {
   "cell_type": "code",
   "execution_count": 25,
   "id": "5f1da2c7-40ed-4494-8e22-4eaa63e21a5c",
   "metadata": {
    "ExecutionIndicator": {
     "show": true
    },
    "execution": {
     "iopub.execute_input": "2024-05-21T08:42:22.599870Z",
     "iopub.status.busy": "2024-05-21T08:42:22.599580Z",
     "iopub.status.idle": "2024-05-21T08:42:22.602604Z",
     "shell.execute_reply": "2024-05-21T08:42:22.602192Z",
     "shell.execute_reply.started": "2024-05-21T08:42:22.599854Z"
    },
    "tags": []
   },
   "outputs": [
    {
     "name": "stdout",
     "output_type": "stream",
     "text": [
      "5\n",
      "6.0\n"
     ]
    }
   ],
   "source": [
    "# 整型浮点转换\n",
    "print(int(b))\n",
    "print(float(a))"
   ]
  },
  {
   "cell_type": "code",
   "execution_count": 45,
   "id": "ec58b0e1-1a77-45ff-9964-b33d8757400a",
   "metadata": {
    "ExecutionIndicator": {
     "show": false
    },
    "execution": {
     "iopub.execute_input": "2024-05-21T09:09:05.273509Z",
     "iopub.status.busy": "2024-05-21T09:09:05.273207Z",
     "iopub.status.idle": "2024-05-21T09:09:05.276268Z",
     "shell.execute_reply": "2024-05-21T09:09:05.275815Z",
     "shell.execute_reply.started": "2024-05-21T09:09:05.273491Z"
    },
    "scrolled": true,
    "tags": []
   },
   "outputs": [
    {
     "name": "stdout",
     "output_type": "stream",
     "text": [
      "11.21\n"
     ]
    }
   ],
   "source": [
    "# 不同类型相加\n",
    "c = a+b\n",
    "print(c)"
   ]
  }
 ],
 "metadata": {
  "kernelspec": {
   "display_name": "Python 3 (ipykernel)",
   "language": "python",
   "name": "python3"
  },
  "language_info": {
   "codemirror_mode": {
    "name": "ipython",
    "version": 3
   },
   "file_extension": ".py",
   "mimetype": "text/x-python",
   "name": "python",
   "nbconvert_exporter": "python",
   "pygments_lexer": "ipython3",
   "version": "3.10.13"
  }
 },
 "nbformat": 4,
 "nbformat_minor": 5
}
