{
 "cells": [
  {
   "cell_type": "markdown",
   "id": "7eef40dd-bcf3-4722-80be-cb56fc98d914",
   "metadata": {},
   "source": [
    "# py数字\n"
   ]
  },
  {
   "cell_type": "markdown",
   "id": "9d7cdc50-95e6-4688-955b-cbba3695a5b1",
   "metadata": {},
   "source": [
    "### 入门"
   ]
  },
  {
   "cell_type": "code",
   "execution_count": null,
   "id": "2d3ee4b8-0009-4162-9d4b-80a8b1bca113",
   "metadata": {
    "ExecutionIndicator": {
     "show": true
    },
    "tags": []
   },
   "outputs": [],
   "source": [
    "# 整型\n",
    "a = 6\n",
    "print(a)"
   ]
  }
 ],
 "metadata": {
  "kernelspec": {
   "display_name": "Python 3 (ipykernel)",
   "language": "python",
   "name": "python3"
  },
  "language_info": {
   "codemirror_mode": {
    "name": "ipython",
    "version": 3
   },
   "file_extension": ".py",
   "mimetype": "text/x-python",
   "name": "python",
   "nbconvert_exporter": "python",
   "pygments_lexer": "ipython3",
   "version": "3.10.13"
  }
 },
 "nbformat": 4,
 "nbformat_minor": 5
}
